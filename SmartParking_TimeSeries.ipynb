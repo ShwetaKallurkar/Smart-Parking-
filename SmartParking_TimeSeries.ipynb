{
 "cells": [
  {
   "cell_type": "code",
   "execution_count": null,
   "metadata": {},
   "outputs": [],
   "source": [
    "The purpose of this assignment is to __predict the slot of parking using ARIMA.__"
   ]
  },
  {
   "cell_type": "code",
   "execution_count": null,
   "metadata": {},
   "outputs": [],
   "source": [
    "### Preprocessing to get the tidy dataframe"
   ]
  },
  {
   "cell_type": "code",
   "execution_count": 25,
   "metadata": {},
   "outputs": [],
   "source": [
    "# Import the library we need, which is Pandas and Matplotlib\n",
    "import pandas as pd\n",
    "import numpy as np\n",
    "import matplotlib.pyplot as plt\n",
    "%matplotlib inline\n",
    "from matplotlib.pylab import rcParams\n",
    "# Import statsmodel\n",
    "import statsmodels.api as sm\n",
    "import statsmodels.formula.api as smf\n",
    "from statsmodels.tsa.stattools import adfuller"
   ]
  },
  {
   "cell_type": "code",
   "execution_count": 26,
   "metadata": {},
   "outputs": [],
   "source": [
    "# Set some parameters to get good visuals - style to ggplot and size to 15,10\n",
    "plt.style.use('ggplot')\n",
    "plt.rcParams['figure.figsize'] = (10, 5)"
   ]
  },
  {
   "cell_type": "code",
   "execution_count": 41,
   "metadata": {},
   "outputs": [],
   "source": [
    "# Read the csv file \n",
    "df = pd.read_csv('sampledata.csv')"
   ]
  },
  {
   "cell_type": "code",
   "execution_count": 40,
   "metadata": {},
   "outputs": [
    {
     "data": {
      "text/html": [
       "<div>\n",
       "<style scoped>\n",
       "    .dataframe tbody tr th:only-of-type {\n",
       "        vertical-align: middle;\n",
       "    }\n",
       "\n",
       "    .dataframe tbody tr th {\n",
       "        vertical-align: top;\n",
       "    }\n",
       "\n",
       "    .dataframe thead th {\n",
       "        text-align: right;\n",
       "    }\n",
       "</style>\n",
       "<table border=\"1\" class=\"dataframe\">\n",
       "  <thead>\n",
       "    <tr style=\"text-align: right;\">\n",
       "      <th></th>\n",
       "      <th>Floornum</th>\n",
       "      <th>Slotnum</th>\n",
       "      <th>Empid</th>\n",
       "      <th>Vehicletype</th>\n",
       "      <th>Vehiclenum</th>\n",
       "      <th>Date</th>\n",
       "      <th>Sensor</th>\n",
       "    </tr>\n",
       "  </thead>\n",
       "  <tbody>\n",
       "    <tr>\n",
       "      <th>0</th>\n",
       "      <td>1</td>\n",
       "      <td>101</td>\n",
       "      <td>16000307</td>\n",
       "      <td>Toyota</td>\n",
       "      <td>EH 5103</td>\n",
       "      <td>16-11-2019 11:43:25</td>\n",
       "      <td>0.0</td>\n",
       "    </tr>\n",
       "    <tr>\n",
       "      <th>1</th>\n",
       "      <td>1</td>\n",
       "      <td>102</td>\n",
       "      <td>16000804</td>\n",
       "      <td>Skoda</td>\n",
       "      <td>MJ 1435</td>\n",
       "      <td>29-10-2019 08:22:51</td>\n",
       "      <td>0.0</td>\n",
       "    </tr>\n",
       "    <tr>\n",
       "      <th>2</th>\n",
       "      <td>1</td>\n",
       "      <td>103</td>\n",
       "      <td>16010329</td>\n",
       "      <td>Suzuki</td>\n",
       "      <td>OW 9335</td>\n",
       "      <td>13-11-2019 09:30:28</td>\n",
       "      <td>0.0</td>\n",
       "    </tr>\n",
       "    <tr>\n",
       "      <th>3</th>\n",
       "      <td>1</td>\n",
       "      <td>104</td>\n",
       "      <td>16010403</td>\n",
       "      <td>BMW</td>\n",
       "      <td>DP 7713</td>\n",
       "      <td>21-11-2019 10:00:33</td>\n",
       "      <td>1.0</td>\n",
       "    </tr>\n",
       "    <tr>\n",
       "      <th>4</th>\n",
       "      <td>1</td>\n",
       "      <td>138</td>\n",
       "      <td>16000307</td>\n",
       "      <td>Toyota</td>\n",
       "      <td>EH 5103</td>\n",
       "      <td>18-10-2019 09:58:01</td>\n",
       "      <td>0.0</td>\n",
       "    </tr>\n",
       "  </tbody>\n",
       "</table>\n",
       "</div>"
      ],
      "text/plain": [
       "   Floornum  Slotnum     Empid Vehicletype Vehiclenum                 Date  \\\n",
       "0         1      101  16000307      Toyota    EH 5103  16-11-2019 11:43:25   \n",
       "1         1      102  16000804       Skoda    MJ 1435  29-10-2019 08:22:51   \n",
       "2         1      103  16010329      Suzuki    OW 9335  13-11-2019 09:30:28   \n",
       "3         1      104  16010403         BMW    DP 7713  21-11-2019 10:00:33   \n",
       "4         1      138  16000307      Toyota    EH 5103  18-10-2019 09:58:01   \n",
       "\n",
       "   Sensor  \n",
       "0     0.0  \n",
       "1     0.0  \n",
       "2     0.0  \n",
       "3     1.0  \n",
       "4     0.0  "
      ]
     },
     "execution_count": 40,
     "metadata": {},
     "output_type": "execute_result"
    }
   ],
   "source": [
    "df.head()"
   ]
  },
  {
   "cell_type": "code",
   "execution_count": 42,
   "metadata": {},
   "outputs": [
    {
     "name": "stdout",
     "output_type": "stream",
     "text": [
      "2019-10-13 10:05:33\n"
     ]
    },
    {
     "data": {
      "text/html": [
       "<div>\n",
       "<style scoped>\n",
       "    .dataframe tbody tr th:only-of-type {\n",
       "        vertical-align: middle;\n",
       "    }\n",
       "\n",
       "    .dataframe tbody tr th {\n",
       "        vertical-align: top;\n",
       "    }\n",
       "\n",
       "    .dataframe thead th {\n",
       "        text-align: right;\n",
       "    }\n",
       "</style>\n",
       "<table border=\"1\" class=\"dataframe\">\n",
       "  <thead>\n",
       "    <tr style=\"text-align: right;\">\n",
       "      <th></th>\n",
       "      <th>Floornum</th>\n",
       "      <th>Slotnum</th>\n",
       "      <th>Empid</th>\n",
       "      <th>Vehicletype</th>\n",
       "      <th>Vehiclenum</th>\n",
       "      <th>Sensor</th>\n",
       "      <th>timeIndex</th>\n",
       "    </tr>\n",
       "    <tr>\n",
       "      <th>Date</th>\n",
       "      <th></th>\n",
       "      <th></th>\n",
       "      <th></th>\n",
       "      <th></th>\n",
       "      <th></th>\n",
       "      <th></th>\n",
       "      <th></th>\n",
       "    </tr>\n",
       "  </thead>\n",
       "  <tbody>\n",
       "    <tr>\n",
       "      <th>2019-11-16 11:43:25</th>\n",
       "      <td>1</td>\n",
       "      <td>101</td>\n",
       "      <td>16000307</td>\n",
       "      <td>Toyota</td>\n",
       "      <td>EH 5103</td>\n",
       "      <td>0.0</td>\n",
       "      <td>34 days 01:37:52</td>\n",
       "    </tr>\n",
       "    <tr>\n",
       "      <th>2019-10-29 08:22:51</th>\n",
       "      <td>1</td>\n",
       "      <td>102</td>\n",
       "      <td>16000804</td>\n",
       "      <td>Skoda</td>\n",
       "      <td>MJ 1435</td>\n",
       "      <td>0.0</td>\n",
       "      <td>15 days 22:17:18</td>\n",
       "    </tr>\n",
       "    <tr>\n",
       "      <th>2019-11-13 09:30:28</th>\n",
       "      <td>1</td>\n",
       "      <td>103</td>\n",
       "      <td>16010329</td>\n",
       "      <td>Suzuki</td>\n",
       "      <td>OW 9335</td>\n",
       "      <td>0.0</td>\n",
       "      <td>30 days 23:24:55</td>\n",
       "    </tr>\n",
       "    <tr>\n",
       "      <th>2019-11-21 10:00:33</th>\n",
       "      <td>1</td>\n",
       "      <td>104</td>\n",
       "      <td>16010403</td>\n",
       "      <td>BMW</td>\n",
       "      <td>DP 7713</td>\n",
       "      <td>1.0</td>\n",
       "      <td>38 days 23:55:00</td>\n",
       "    </tr>\n",
       "    <tr>\n",
       "      <th>2019-10-18 09:58:01</th>\n",
       "      <td>1</td>\n",
       "      <td>138</td>\n",
       "      <td>16000307</td>\n",
       "      <td>Toyota</td>\n",
       "      <td>EH 5103</td>\n",
       "      <td>0.0</td>\n",
       "      <td>4 days 23:52:28</td>\n",
       "    </tr>\n",
       "  </tbody>\n",
       "</table>\n",
       "</div>"
      ],
      "text/plain": [
       "                     Floornum  Slotnum     Empid Vehicletype Vehiclenum  \\\n",
       "Date                                                                      \n",
       "2019-11-16 11:43:25         1      101  16000307      Toyota    EH 5103   \n",
       "2019-10-29 08:22:51         1      102  16000804       Skoda    MJ 1435   \n",
       "2019-11-13 09:30:28         1      103  16010329      Suzuki    OW 9335   \n",
       "2019-11-21 10:00:33         1      104  16010403         BMW    DP 7713   \n",
       "2019-10-18 09:58:01         1      138  16000307      Toyota    EH 5103   \n",
       "\n",
       "                     Sensor        timeIndex  \n",
       "Date                                          \n",
       "2019-11-16 11:43:25     0.0 34 days 01:37:52  \n",
       "2019-10-29 08:22:51     0.0 15 days 22:17:18  \n",
       "2019-11-13 09:30:28     0.0 30 days 23:24:55  \n",
       "2019-11-21 10:00:33     1.0 38 days 23:55:00  \n",
       "2019-10-18 09:58:01     0.0  4 days 23:52:28  "
      ]
     },
     "execution_count": 42,
     "metadata": {},
     "output_type": "execute_result"
    }
   ],
   "source": [
    "from datetime import datetime\n",
    "\n",
    "df['Date']  =  pd.to_datetime(df['Date'],infer_datetime_format = True)             #convert from string to datetime\n",
    "print(df.Date.min())\n",
    "# Convert date in datetimedelta figure starting from zero\n",
    "df[\"timeIndex\"] = df.Date - df.Date.min()\n",
    "df  =  df.set_index(['Date'])\n",
    "df.head(5)"
   ]
  },
  {
   "cell_type": "code",
   "execution_count": 30,
   "metadata": {},
   "outputs": [],
   "source": [
    "# Sort the data frame by date\n",
    "df = df.sort_values(by = \"Date\")"
   ]
  },
  {
   "cell_type": "code",
   "execution_count": 31,
   "metadata": {},
   "outputs": [
    {
     "data": {
      "text/html": [
       "<div>\n",
       "<style scoped>\n",
       "    .dataframe tbody tr th:only-of-type {\n",
       "        vertical-align: middle;\n",
       "    }\n",
       "\n",
       "    .dataframe tbody tr th {\n",
       "        vertical-align: top;\n",
       "    }\n",
       "\n",
       "    .dataframe thead th {\n",
       "        text-align: right;\n",
       "    }\n",
       "</style>\n",
       "<table border=\"1\" class=\"dataframe\">\n",
       "  <thead>\n",
       "    <tr style=\"text-align: right;\">\n",
       "      <th></th>\n",
       "      <th>Floornum</th>\n",
       "      <th>Slotnum</th>\n",
       "      <th>Empid</th>\n",
       "      <th>Vehicletype</th>\n",
       "      <th>Vehiclenum</th>\n",
       "      <th>Sensor</th>\n",
       "      <th>timeIndex</th>\n",
       "    </tr>\n",
       "    <tr>\n",
       "      <th>Date</th>\n",
       "      <th></th>\n",
       "      <th></th>\n",
       "      <th></th>\n",
       "      <th></th>\n",
       "      <th></th>\n",
       "      <th></th>\n",
       "      <th></th>\n",
       "    </tr>\n",
       "  </thead>\n",
       "  <tbody>\n",
       "    <tr>\n",
       "      <th>2019-10-13 10:05:33</th>\n",
       "      <td>3</td>\n",
       "      <td>374</td>\n",
       "      <td>16010403</td>\n",
       "      <td>BMW</td>\n",
       "      <td>DP 7713</td>\n",
       "      <td>1.0</td>\n",
       "      <td>0 days 00:00:00</td>\n",
       "    </tr>\n",
       "    <tr>\n",
       "      <th>2019-10-18 09:58:01</th>\n",
       "      <td>1</td>\n",
       "      <td>138</td>\n",
       "      <td>16000307</td>\n",
       "      <td>Toyota</td>\n",
       "      <td>EH 5103</td>\n",
       "      <td>0.0</td>\n",
       "      <td>4 days 23:52:28</td>\n",
       "    </tr>\n",
       "    <tr>\n",
       "      <th>2019-10-19 08:58:01</th>\n",
       "      <td>1</td>\n",
       "      <td>182</td>\n",
       "      <td>16000307</td>\n",
       "      <td>Toyota</td>\n",
       "      <td>EH 5103</td>\n",
       "      <td>0.0</td>\n",
       "      <td>5 days 22:52:28</td>\n",
       "    </tr>\n",
       "    <tr>\n",
       "      <th>2019-10-20 09:58:01</th>\n",
       "      <td>2</td>\n",
       "      <td>202</td>\n",
       "      <td>16000307</td>\n",
       "      <td>Toyota</td>\n",
       "      <td>EH 5103</td>\n",
       "      <td>0.0</td>\n",
       "      <td>6 days 23:52:28</td>\n",
       "    </tr>\n",
       "    <tr>\n",
       "      <th>2019-10-21 10:58:02</th>\n",
       "      <td>2</td>\n",
       "      <td>272</td>\n",
       "      <td>16000307</td>\n",
       "      <td>Toyota</td>\n",
       "      <td>EH 5103</td>\n",
       "      <td>0.0</td>\n",
       "      <td>8 days 00:52:29</td>\n",
       "    </tr>\n",
       "  </tbody>\n",
       "</table>\n",
       "</div>"
      ],
      "text/plain": [
       "                     Floornum  Slotnum     Empid Vehicletype Vehiclenum  \\\n",
       "Date                                                                      \n",
       "2019-10-13 10:05:33         3      374  16010403         BMW    DP 7713   \n",
       "2019-10-18 09:58:01         1      138  16000307      Toyota    EH 5103   \n",
       "2019-10-19 08:58:01         1      182  16000307      Toyota    EH 5103   \n",
       "2019-10-20 09:58:01         2      202  16000307      Toyota    EH 5103   \n",
       "2019-10-21 10:58:02         2      272  16000307      Toyota    EH 5103   \n",
       "\n",
       "                     Sensor       timeIndex  \n",
       "Date                                         \n",
       "2019-10-13 10:05:33     1.0 0 days 00:00:00  \n",
       "2019-10-18 09:58:01     0.0 4 days 23:52:28  \n",
       "2019-10-19 08:58:01     0.0 5 days 22:52:28  \n",
       "2019-10-20 09:58:01     0.0 6 days 23:52:28  \n",
       "2019-10-21 10:58:02     0.0 8 days 00:52:29  "
      ]
     },
     "execution_count": 31,
     "metadata": {},
     "output_type": "execute_result"
    }
   ],
   "source": [
    "df.head()"
   ]
  },
  {
   "cell_type": "code",
   "execution_count": 32,
   "metadata": {},
   "outputs": [
    {
     "data": {
      "text/plain": [
       "Floornum       80\n",
       "Slotnum        80\n",
       "Empid          80\n",
       "Vehicletype    80\n",
       "Vehiclenum     80\n",
       "Sensor         80\n",
       "timeIndex      80\n",
       "dtype: int64"
      ]
     },
     "execution_count": 32,
     "metadata": {},
     "output_type": "execute_result"
    }
   ],
   "source": [
    "df.isnull().count()"
   ]
  },
  {
   "cell_type": "code",
   "execution_count": 12,
   "metadata": {},
   "outputs": [
    {
     "data": {
      "text/plain": [
       "<matplotlib.axes._subplots.AxesSubplot at 0x24a5b1560f0>"
      ]
     },
     "execution_count": 12,
     "metadata": {},
     "output_type": "execute_result"
    },
    {
     "data": {
      "image/png": "[encoded data removed]",
      "text/plain": [
       "<Figure size 720x360 with 1 Axes>"
      ]
     },
     "metadata": {},
     "output_type": "display_data"
    }
   ],
   "source": [
    "#df.Slotnum.plot(color = 'Red')"
   ]
  },
  {
   "cell_type": "code",
   "execution_count": 14,
   "metadata": {},
   "outputs": [],
   "source": [
    "# Convert to months using the timedelta function\n",
    "df[\"timeIndex\"] =  df[\"timeIndex\"]/np.timedelta64(1, 'M')"
   ]
  },
  {
   "cell_type": "code",
   "execution_count": 15,
   "metadata": {},
   "outputs": [
    {
     "data": {
      "text/plain": [
       "Date\n",
       "2019-10-13 10:05:33    0.000000\n",
       "2019-10-18 09:58:01    0.164103\n",
       "2019-10-19 08:58:01    0.195588\n",
       "2019-10-20 09:58:01    0.229812\n",
       "2019-10-21 10:58:02    0.264037\n",
       "Name: timeIndex, dtype: float64"
      ]
     },
     "execution_count": 15,
     "metadata": {},
     "output_type": "execute_result"
    }
   ],
   "source": [
    "df.timeIndex.head()"
   ]
  },
  {
   "cell_type": "code",
   "execution_count": 16,
   "metadata": {},
   "outputs": [],
   "source": [
    "# Round the number to 0\n",
    "df[\"timeIndex\"] = df[\"timeIndex\"].round(0).astype(int)"
   ]
  },
  {
   "cell_type": "code",
   "execution_count": 17,
   "metadata": {},
   "outputs": [
    {
     "data": {
      "text/plain": [
       "Date\n",
       "2019-12-25 09:31:28    2\n",
       "2019-12-26 09:31:28    2\n",
       "2019-12-27 09:31:28    2\n",
       "2019-12-28 09:31:28    2\n",
       "2019-12-29 09:31:28    3\n",
       "Name: timeIndex, dtype: int32"
      ]
     },
     "execution_count": 17,
     "metadata": {},
     "output_type": "execute_result"
    }
   ],
   "source": [
    "df.timeIndex.tail()"
   ]
  },
  {
   "cell_type": "code",
   "execution_count": 21,
   "metadata": {},
   "outputs": [
    {
     "data": {
      "text/html": [
       "<div>\n",
       "<style scoped>\n",
       "    .dataframe tbody tr th:only-of-type {\n",
       "        vertical-align: middle;\n",
       "    }\n",
       "\n",
       "    .dataframe tbody tr th {\n",
       "        vertical-align: top;\n",
       "    }\n",
       "\n",
       "    .dataframe thead th {\n",
       "        text-align: right;\n",
       "    }\n",
       "</style>\n",
       "<table border=\"1\" class=\"dataframe\">\n",
       "  <thead>\n",
       "    <tr style=\"text-align: right;\">\n",
       "      <th></th>\n",
       "      <th>Floornum</th>\n",
       "      <th>Slotnum</th>\n",
       "      <th>Empid</th>\n",
       "      <th>Vehicletype</th>\n",
       "      <th>Vehiclenum</th>\n",
       "      <th>Sensor</th>\n",
       "      <th>timeIndex</th>\n",
       "    </tr>\n",
       "    <tr>\n",
       "      <th>Date</th>\n",
       "      <th></th>\n",
       "      <th></th>\n",
       "      <th></th>\n",
       "      <th></th>\n",
       "      <th></th>\n",
       "      <th></th>\n",
       "      <th></th>\n",
       "    </tr>\n",
       "  </thead>\n",
       "  <tbody>\n",
       "    <tr>\n",
       "      <th>2019-10-13 10:05:33</th>\n",
       "      <td>3</td>\n",
       "      <td>374</td>\n",
       "      <td>16010403</td>\n",
       "      <td>BMW</td>\n",
       "      <td>DP 7713</td>\n",
       "      <td>1.0</td>\n",
       "      <td>0</td>\n",
       "    </tr>\n",
       "    <tr>\n",
       "      <th>2019-10-18 09:58:01</th>\n",
       "      <td>1</td>\n",
       "      <td>138</td>\n",
       "      <td>16000307</td>\n",
       "      <td>Toyota</td>\n",
       "      <td>EH 5103</td>\n",
       "      <td>0.0</td>\n",
       "      <td>0</td>\n",
       "    </tr>\n",
       "    <tr>\n",
       "      <th>2019-10-19 08:58:01</th>\n",
       "      <td>1</td>\n",
       "      <td>182</td>\n",
       "      <td>16000307</td>\n",
       "      <td>Toyota</td>\n",
       "      <td>EH 5103</td>\n",
       "      <td>0.0</td>\n",
       "      <td>0</td>\n",
       "    </tr>\n",
       "    <tr>\n",
       "      <th>2019-10-20 09:58:01</th>\n",
       "      <td>2</td>\n",
       "      <td>202</td>\n",
       "      <td>16000307</td>\n",
       "      <td>Toyota</td>\n",
       "      <td>EH 5103</td>\n",
       "      <td>0.0</td>\n",
       "      <td>0</td>\n",
       "    </tr>\n",
       "    <tr>\n",
       "      <th>2019-10-21 10:58:02</th>\n",
       "      <td>2</td>\n",
       "      <td>272</td>\n",
       "      <td>16000307</td>\n",
       "      <td>Toyota</td>\n",
       "      <td>EH 5103</td>\n",
       "      <td>0.0</td>\n",
       "      <td>0</td>\n",
       "    </tr>\n",
       "  </tbody>\n",
       "</table>\n",
       "</div>"
      ],
      "text/plain": [
       "                     Floornum  Slotnum     Empid Vehicletype Vehiclenum  \\\n",
       "Date                                                                      \n",
       "2019-10-13 10:05:33         3      374  16010403         BMW    DP 7713   \n",
       "2019-10-18 09:58:01         1      138  16000307      Toyota    EH 5103   \n",
       "2019-10-19 08:58:01         1      182  16000307      Toyota    EH 5103   \n",
       "2019-10-20 09:58:01         2      202  16000307      Toyota    EH 5103   \n",
       "2019-10-21 10:58:02         2      272  16000307      Toyota    EH 5103   \n",
       "\n",
       "                     Sensor  timeIndex  \n",
       "Date                                    \n",
       "2019-10-13 10:05:33     1.0          0  \n",
       "2019-10-18 09:58:01     0.0          0  \n",
       "2019-10-19 08:58:01     0.0          0  \n",
       "2019-10-20 09:58:01     0.0          0  \n",
       "2019-10-21 10:58:02     0.0          0  "
      ]
     },
     "execution_count": 21,
     "metadata": {},
     "output_type": "execute_result"
    }
   ],
   "source": [
    "df.head()"
   ]
  },
  {
   "cell_type": "code",
   "execution_count": 47,
   "metadata": {},
   "outputs": [
    {
     "data": {
      "text/plain": [
       "Floornum       0\n",
       "Slotnum        0\n",
       "Empid          0\n",
       "Vehicletype    0\n",
       "Vehiclenum     0\n",
       "Sensor         2\n",
       "timeIndex      0\n",
       "dtype: int64"
      ]
     },
     "execution_count": 47,
     "metadata": {},
     "output_type": "execute_result"
    }
   ],
   "source": [
    "df.isnull().sum()"
   ]
  },
  {
   "cell_type": "code",
   "execution_count": 49,
   "metadata": {},
   "outputs": [],
   "source": [
    "new_df = df.dropna(axis = 0 , inplace = False)\n"
   ]
  },
  {
   "cell_type": "code",
   "execution_count": 51,
   "metadata": {},
   "outputs": [
    {
     "data": {
      "text/plain": [
       "Floornum       0\n",
       "Slotnum        0\n",
       "Empid          0\n",
       "Vehicletype    0\n",
       "Vehiclenum     0\n",
       "Sensor         0\n",
       "timeIndex      0\n",
       "dtype: int64"
      ]
     },
     "execution_count": 51,
     "metadata": {},
     "output_type": "execute_result"
    }
   ],
   "source": [
    "new_df.isnull().sum()"
   ]
  },
  {
   "cell_type": "code",
   "execution_count": 20,
   "metadata": {},
   "outputs": [
    {
     "ename": "ValueError",
     "evalue": "You must specify a freq or x must be a pandas object with a timeseries index with a freq not set to None",
     "output_type": "error",
     "traceback": [
      "\u001b[1;31m---------------------------------------------------------------------------\u001b[0m",
      "\u001b[1;31mValueError\u001b[0m                                Traceback (most recent call last)",
      "\u001b[1;32m<ipython-input-20-d613df6974ab>\u001b[0m in \u001b[0;36m<module>\u001b[1;34m\u001b[0m\n\u001b[0;32m      5\u001b[0m     \u001b[0mplt\u001b[0m\u001b[1;33m.\u001b[0m\u001b[0mshow\u001b[0m\u001b[1;33m(\u001b[0m\u001b[1;33m)\u001b[0m\u001b[1;33m\u001b[0m\u001b[1;33m\u001b[0m\u001b[0m\n\u001b[0;32m      6\u001b[0m     \u001b[1;32mreturn\u001b[0m \u001b[0mdecomposed_dataset\u001b[0m\u001b[1;33m\u001b[0m\u001b[1;33m\u001b[0m\u001b[0m\n\u001b[1;32m----> 7\u001b[1;33m \u001b[0mdecomposed_dataset\u001b[0m \u001b[1;33m=\u001b[0m \u001b[0mgenerate\u001b[0m\u001b[1;33m(\u001b[0m\u001b[1;33m)\u001b[0m\u001b[1;33m\u001b[0m\u001b[1;33m\u001b[0m\u001b[0m\n\u001b[0m",
      "\u001b[1;32m<ipython-input-20-d613df6974ab>\u001b[0m in \u001b[0;36mgenerate\u001b[1;34m()\u001b[0m\n\u001b[0;32m      1\u001b[0m \u001b[1;32mfrom\u001b[0m \u001b[0mstatsmodels\u001b[0m\u001b[1;33m.\u001b[0m\u001b[0mtsa\u001b[0m\u001b[1;33m.\u001b[0m\u001b[0mseasonal\u001b[0m \u001b[1;32mimport\u001b[0m \u001b[0mseasonal_decompose\u001b[0m\u001b[1;33m\u001b[0m\u001b[1;33m\u001b[0m\u001b[0m\n\u001b[0;32m      2\u001b[0m \u001b[1;32mdef\u001b[0m \u001b[0mgenerate\u001b[0m\u001b[1;33m(\u001b[0m\u001b[1;33m)\u001b[0m\u001b[1;33m:\u001b[0m\u001b[1;33m\u001b[0m\u001b[1;33m\u001b[0m\u001b[0m\n\u001b[1;32m----> 3\u001b[1;33m     \u001b[0mdecomposed_dataset\u001b[0m  \u001b[1;33m=\u001b[0m  \u001b[0mseasonal_decompose\u001b[0m\u001b[1;33m(\u001b[0m\u001b[0mdf\u001b[0m\u001b[1;33m.\u001b[0m\u001b[0mSlotnum\u001b[0m\u001b[1;33m,\u001b[0m\u001b[0mmodel\u001b[0m \u001b[1;33m=\u001b[0m\u001b[1;34m'additive'\u001b[0m\u001b[1;33m)\u001b[0m\u001b[1;33m\u001b[0m\u001b[1;33m\u001b[0m\u001b[0m\n\u001b[0m\u001b[0;32m      4\u001b[0m     \u001b[0mfigure\u001b[0m  \u001b[1;33m=\u001b[0m  \u001b[0mdecomposed_dataset\u001b[0m\u001b[1;33m.\u001b[0m\u001b[0mplot\u001b[0m\u001b[1;33m(\u001b[0m\u001b[1;33m)\u001b[0m\u001b[1;33m\u001b[0m\u001b[1;33m\u001b[0m\u001b[0m\n\u001b[0;32m      5\u001b[0m     \u001b[0mplt\u001b[0m\u001b[1;33m.\u001b[0m\u001b[0mshow\u001b[0m\u001b[1;33m(\u001b[0m\u001b[1;33m)\u001b[0m\u001b[1;33m\u001b[0m\u001b[1;33m\u001b[0m\u001b[0m\n",
      "\u001b[1;32mD:\\DATASCIENCE\\anaconda3\\lib\\site-packages\\statsmodels\\tsa\\seasonal.py\u001b[0m in \u001b[0;36mseasonal_decompose\u001b[1;34m(x, model, filt, freq, two_sided, extrapolate_trend)\u001b[0m\n\u001b[0;32m    125\u001b[0m             \u001b[0mfreq\u001b[0m \u001b[1;33m=\u001b[0m \u001b[0mpfreq\u001b[0m\u001b[1;33m\u001b[0m\u001b[1;33m\u001b[0m\u001b[0m\n\u001b[0;32m    126\u001b[0m         \u001b[1;32melse\u001b[0m\u001b[1;33m:\u001b[0m\u001b[1;33m\u001b[0m\u001b[1;33m\u001b[0m\u001b[0m\n\u001b[1;32m--> 127\u001b[1;33m             raise ValueError(\"You must specify a freq or x must be a \"\n\u001b[0m\u001b[0;32m    128\u001b[0m                              \u001b[1;34m\"pandas object with a timeseries index with \"\u001b[0m\u001b[1;33m\u001b[0m\u001b[1;33m\u001b[0m\u001b[0m\n\u001b[0;32m    129\u001b[0m                              \"a freq not set to None\")\n",
      "\u001b[1;31mValueError\u001b[0m: You must specify a freq or x must be a pandas object with a timeseries index with a freq not set to None"
     ]
    }
   ],
   "source": [
    "from statsmodels.tsa.seasonal import seasonal_decompose\n",
    "def generate():\n",
    "    decomposed_dataset  =  seasonal_decompose(df.Slotnum,model ='additive')\n",
    "    figure  =  decomposed_dataset.plot()\n",
    "    plt.show()\n",
    "    return decomposed_dataset\n",
    "decomposed_dataset = generate()"
   ]
  }
 ],
 "metadata": {
  "kernelspec": {
   "display_name": "Python 3",
   "language": "python",
   "name": "python3"
  },
  "language_info": {
   "codemirror_mode": {
    "name": "ipython",
    "version": 3
   },
   "file_extension": ".py",
   "mimetype": "text/x-python",
   "name": "python",
   "nbconvert_exporter": "python",
   "pygments_lexer": "ipython3",
   "version": "3.7.3"
  }
 },
 "nbformat": 4,
 "nbformat_minor": 2
}
